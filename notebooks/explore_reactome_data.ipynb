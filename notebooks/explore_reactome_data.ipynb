{
 "cells": [
  {
   "cell_type": "code",
   "execution_count": 2,
   "metadata": {
    "collapsed": true
   },
   "outputs": [],
   "source": [
    "import pandas as pd"
   ]
  },
  {
   "cell_type": "code",
   "execution_count": 5,
   "metadata": {
    "collapsed": false
   },
   "outputs": [],
   "source": [
    "data = pd.read_csv('~/data/UniProt2Reactome_human.txt', sep='\\t')"
   ]
  },
  {
   "cell_type": "code",
   "execution_count": 6,
   "metadata": {
    "collapsed": false
   },
   "outputs": [
    {
     "data": {
      "text/html": [
       "<div>\n",
       "<table border=\"1\" class=\"dataframe\">\n",
       "  <thead>\n",
       "    <tr style=\"text-align: right;\">\n",
       "      <th></th>\n",
       "      <th>UniProt identifier</th>\n",
       "      <th>Reactome Pathway Stable identifier</th>\n",
       "      <th>URL</th>\n",
       "      <th>Pathway Name</th>\n",
       "      <th>Evidence Code</th>\n",
       "      <th>Species</th>\n",
       "    </tr>\n",
       "  </thead>\n",
       "  <tbody>\n",
       "    <tr>\n",
       "      <th>0</th>\n",
       "      <td>A0AVF1</td>\n",
       "      <td>R-HSA-5620924</td>\n",
       "      <td>http://www.reactome.org/PathwayBrowser/#/R-HSA...</td>\n",
       "      <td>Intraflagellar transport</td>\n",
       "      <td>TAS</td>\n",
       "      <td>Homo sapiens</td>\n",
       "    </tr>\n",
       "    <tr>\n",
       "      <th>1</th>\n",
       "      <td>A0AVT1</td>\n",
       "      <td>R-HSA-983168</td>\n",
       "      <td>http://www.reactome.org/PathwayBrowser/#/R-HSA...</td>\n",
       "      <td>Antigen processing: Ubiquitination &amp; Proteasom...</td>\n",
       "      <td>TAS</td>\n",
       "      <td>Homo sapiens</td>\n",
       "    </tr>\n",
       "    <tr>\n",
       "      <th>2</th>\n",
       "      <td>A0JLT2</td>\n",
       "      <td>R-HSA-1989781</td>\n",
       "      <td>http://www.reactome.org/PathwayBrowser/#/R-HSA...</td>\n",
       "      <td>PPARA activates gene expression</td>\n",
       "      <td>TAS</td>\n",
       "      <td>Homo sapiens</td>\n",
       "    </tr>\n",
       "    <tr>\n",
       "      <th>3</th>\n",
       "      <td>A0JLT2</td>\n",
       "      <td>R-HSA-381340</td>\n",
       "      <td>http://www.reactome.org/PathwayBrowser/#/R-HSA...</td>\n",
       "      <td>Transcriptional regulation of white adipocyte ...</td>\n",
       "      <td>TAS</td>\n",
       "      <td>Homo sapiens</td>\n",
       "    </tr>\n",
       "    <tr>\n",
       "      <th>4</th>\n",
       "      <td>A0M8Q6</td>\n",
       "      <td>R-HSA-2871796</td>\n",
       "      <td>http://www.reactome.org/PathwayBrowser/#/R-HSA...</td>\n",
       "      <td>FCERI mediated MAPK activation</td>\n",
       "      <td>TAS</td>\n",
       "      <td>Homo sapiens</td>\n",
       "    </tr>\n",
       "  </tbody>\n",
       "</table>\n",
       "</div>"
      ],
      "text/plain": [
       "  UniProt identifier Reactome Pathway Stable identifier  \\\n",
       "0             A0AVF1                      R-HSA-5620924   \n",
       "1             A0AVT1                       R-HSA-983168   \n",
       "2             A0JLT2                      R-HSA-1989781   \n",
       "3             A0JLT2                       R-HSA-381340   \n",
       "4             A0M8Q6                      R-HSA-2871796   \n",
       "\n",
       "                                                 URL  \\\n",
       "0  http://www.reactome.org/PathwayBrowser/#/R-HSA...   \n",
       "1  http://www.reactome.org/PathwayBrowser/#/R-HSA...   \n",
       "2  http://www.reactome.org/PathwayBrowser/#/R-HSA...   \n",
       "3  http://www.reactome.org/PathwayBrowser/#/R-HSA...   \n",
       "4  http://www.reactome.org/PathwayBrowser/#/R-HSA...   \n",
       "\n",
       "                                        Pathway Name Evidence Code  \\\n",
       "0                           Intraflagellar transport           TAS   \n",
       "1  Antigen processing: Ubiquitination & Proteasom...           TAS   \n",
       "2                    PPARA activates gene expression           TAS   \n",
       "3  Transcriptional regulation of white adipocyte ...           TAS   \n",
       "4                     FCERI mediated MAPK activation           TAS   \n",
       "\n",
       "        Species  \n",
       "0  Homo sapiens  \n",
       "1  Homo sapiens  \n",
       "2  Homo sapiens  \n",
       "3  Homo sapiens  \n",
       "4  Homo sapiens  "
      ]
     },
     "execution_count": 6,
     "metadata": {},
     "output_type": "execute_result"
    }
   ],
   "source": [
    "data.head()"
   ]
  },
  {
   "cell_type": "code",
   "execution_count": 10,
   "metadata": {
    "collapsed": false
   },
   "outputs": [
    {
     "data": {
      "text/plain": [
       "1524"
      ]
     },
     "execution_count": 10,
     "metadata": {},
     "output_type": "execute_result"
    }
   ],
   "source": [
    "len(data['Pathway Name'].unique())"
   ]
  },
  {
   "cell_type": "code",
   "execution_count": null,
   "metadata": {
    "collapsed": true
   },
   "outputs": [],
   "source": []
  }
 ],
 "metadata": {
  "kernelspec": {
   "display_name": "Python 2",
   "language": "python",
   "name": "python2"
  },
  "language_info": {
   "codemirror_mode": {
    "name": "ipython",
    "version": 2
   },
   "file_extension": ".py",
   "mimetype": "text/x-python",
   "name": "python",
   "nbconvert_exporter": "python",
   "pygments_lexer": "ipython2",
   "version": "2.7.11"
  }
 },
 "nbformat": 4,
 "nbformat_minor": 0
}
